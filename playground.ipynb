{
 "cells": [
  {
   "cell_type": "markdown",
   "metadata": {},
   "source": [
    "# Getting started\n",
    "\n",
    "## Prerequisites (from the PRAW documentation):\n",
    "\n",
    " - **Python knowledge**: You need to know at least a little Python to use PRAW; it's a Python wrapper after all. PRAW supports `Python 2.7`, and `Python 3.3 to 3.6`. If you are stuck on a problem, `/r/learnpython` is a great place to ask for help.  \n",
    " - **Reddit Knowledge** A basic understanding of how `reddit.com` works is a must. In the event you are not already familiar with Reddit start with their FAQ.\n",
    " - **Reddit Account**: A Reddit account is required to access Reddit’s API. Create one at reddit.com.\n",
    " - **Client ID & Client Secret**: These two values are needed to access Reddit’s API as a script application (see Authenticating via OAuth for other application types). If you don’t already have a client ID and client secret, follow Reddit’s [First Steps Guide](https://github.com/reddit/reddit/wiki/OAuth2-Quick-Start-Example#first-steps) to create them.\n",
    " - **User Agent**: A user agent is a unique identifier that helps Reddit determine the source of network requests. To use Reddit's API, you need a unique and descriptive user agent. The recommended format is `<platform>:<app ID>:<version string> (by /u/<Reddit username>)`. For example, `android:com.example.myredditapp:v1.2.3 (by /u/kemitche)`. Read more about user-agents at [Reddit's API wiki page](https://github.com/reddit/reddit/wiki/API).\n",
    "\n",
    "## Installing PRAW\n",
    "\n",
    "For Python in general:\n",
    "\n",
    "```\n",
    "pip install praw\n",
    "```\n",
    "\n",
    "If running inside Anaconda:\n",
    "\n",
    "```\n",
    "conda install --name [myenv] praw\n",
    "```\n",
    "\n",
    "\n",
    "## Using PRAW\n",
    "\n",
    "We'll be using an script application as it is the simplest to work with. You must first register an application of the appropriate type on Reddit."
   ]
  },
  {
   "cell_type": "code",
   "execution_count": null,
   "metadata": {
    "collapsed": true
   },
   "outputs": [],
   "source": []
  }
 ],
 "metadata": {
  "kernelspec": {
   "display_name": "Python 3",
   "language": "python",
   "name": "python3"
  },
  "language_info": {
   "codemirror_mode": {
    "name": "ipython",
    "version": 3
   },
   "file_extension": ".py",
   "mimetype": "text/x-python",
   "name": "python",
   "nbconvert_exporter": "python",
   "pygments_lexer": "ipython3",
   "version": "3.6.1"
  }
 },
 "nbformat": 4,
 "nbformat_minor": 2
}
