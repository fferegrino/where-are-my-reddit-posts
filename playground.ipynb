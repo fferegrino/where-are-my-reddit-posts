{
 "cells": [
  {
   "cell_type": "markdown",
   "metadata": {},
   "source": [
    "# Getting started\n",
    "\n",
    "## Prerequisites (from the PRAW documentation):\n",
    "\n",
    " - **Python knowledge**: You need to know at least a little Python to use PRAW; it's a Python wrapper after all. PRAW supports `Python 2.7`, and `Python 3.3 to 3.6`. If you are stuck on a problem, `/r/learnpython` is a great place to ask for help.  \n",
    " - **Reddit Knowledge** A basic understanding of how `reddit.com` works is a must. In the event you are not already familiar with Reddit start with their FAQ.\n",
    " - **Reddit Account**: A Reddit account is required to access Reddit’s API. Create one at reddit.com.\n",
    " - **Client ID & Client Secret**: These two values are needed to access Reddit’s API as a script application (see Authenticating via OAuth for other application types). If you don’t already have a client ID and client secret, follow Reddit’s [First Steps Guide](https://github.com/reddit/reddit/wiki/OAuth2-Quick-Start-Example#first-steps) to create them.\n",
    " - **User Agent**: A user agent is a unique identifier that helps Reddit determine the source of network requests. To use Reddit's API, you need a unique and descriptive user agent. The recommended format is `<platform>:<app ID>:<version string> (by /u/<Reddit username>)`. For example, `android:com.example.myredditapp:v1.2.3 (by /u/kemitche)`. Read more about user-agents at [Reddit's API wiki page](https://github.com/reddit/reddit/wiki/API).\n",
    "\n",
    "## Installing PRAW\n",
    "\n",
    "For Python in general:\n",
    "\n",
    "```\n",
    "pip install praw\n",
    "```\n",
    "\n",
    "If running inside Anaconda:\n",
    "\n",
    "```\n",
    "conda install --name [myenv] praw\n",
    "```\n",
    "\n",
    "OK, the script above does **not** work. Just install it using `pip`.\n",
    "\n",
    "\n",
    "## Using PRAW\n",
    "\n",
    "We'll be using an script application as it is the simplest to work with. You must first register an application of the appropriate type on Reddit."
   ]
  },
  {
   "cell_type": "markdown",
   "metadata": {},
   "source": [
    "### Start with by authenticating yourself\n",
    "\n",
    "You'll need four important pieces of information (make sure you fill them out somehow)."
   ]
  },
  {
   "cell_type": "code",
   "execution_count": null,
   "metadata": {
    "collapsed": true
   },
   "outputs": [],
   "source": [
    "# The client ID is the 14 character string listed just under “personal use script” \n",
    "# for the desired developed application.\n",
    "client_id = \"\"\n",
    "\n",
    "# The client secret is the 27 character string listed adjacent to secret for the application.\n",
    "client_secret = \"\"\n",
    "\n",
    "# The password for the Reddit account used to register the script application.\n",
    "password = \"\"\n",
    "\n",
    "# The username of the Reddit account used to register the script application.\n",
    "username = \"\""
   ]
  },
  {
   "cell_type": "markdown",
   "metadata": {},
   "source": [
    "Now, with that information, you can perform the authentication:"
   ]
  },
  {
   "cell_type": "code",
   "execution_count": null,
   "metadata": {
    "collapsed": true
   },
   "outputs": [],
   "source": [
    "import praw\n",
    "\n",
    "reddit = praw.Reddit(client_id=client_id,\n",
    "                     client_secret=client_secret,\n",
    "                     password=password,\n",
    "                     user_agent='praw_playground by /u/' + username,\n",
    "                     username=username)\n",
    "\n",
    "# Print some information about the authenticated user to verify the auth process\n",
    "print(reddit.user.me())"
   ]
  },
  {
   "cell_type": "markdown",
   "metadata": {},
   "source": [
    "## Get data from a subreddit"
   ]
  },
  {
   "cell_type": "code",
   "execution_count": null,
   "metadata": {
    "collapsed": true
   },
   "outputs": [],
   "source": [
    "r_glasgow = reddit.subreddit('glasgow')\n",
    "hot_posts = r_glasgow.hot(limit=5)\n",
    "print(\"Submissions to r/glasgow:\")\n",
    "for submission in hot_posts:\n",
    "    print(submission.title)"
   ]
  },
  {
   "cell_type": "markdown",
   "metadata": {
    "collapsed": true
   },
   "source": [
    "If you print the type of `hot_posts` you'll see that is not a list or an array, as you may have thought. Instead it is a type defined by PRAW:"
   ]
  },
  {
   "cell_type": "code",
   "execution_count": null,
   "metadata": {
    "collapsed": true
   },
   "outputs": [],
   "source": [
    "print(type(hot_posts))"
   ]
  },
  {
   "cell_type": "markdown",
   "metadata": {},
   "source": [
    "It is a `praw.models.listing.generator.ListingGenerator`! but for now, think of it as a list. From now on, I'll be refering to this datatype as a *list*."
   ]
  },
  {
   "cell_type": "markdown",
   "metadata": {},
   "source": [
    "### The `Sumbission` model\n",
    "Now, each element of our list is a `Submission`, the properties/methods/members of each submission are: 'approved_at_utc', 'approved_by', 'archived', 'author', 'author_flair_css_class', 'author_flair_text', 'banned_at_utc', 'banned_by', 'brand_safe', 'can_gild', 'can_mod_post', 'clear_vote', 'clicked', 'comment_limit', 'comment_sort', 'comments', 'contest_mode', 'created', 'created_utc', 'crosspost', 'delete', 'disable_inbox_replies', 'distinguished', 'domain', 'downs', 'downvote', 'duplicates', 'edit', 'edited', 'enable_inbox_replies', 'flair', 'fullname', 'gild', 'gilded', 'hidden', 'hide', 'hide_score', 'id', 'id_from_url', 'is_crosspostable', 'is_reddit_media_domain', 'is_self', 'is_video', 'likes', 'link_flair_css_class', 'link_flair_text', 'locked', 'media', 'media_embed', 'mod', 'mod_reports', 'name', 'num_comments', 'num_crossposts', 'num_reports', 'over_18', 'parent_whitelist_status', 'parse', 'permalink', 'pinned', 'quarantine', 'removal_reason', 'reply', 'report', 'report_reasons', 'save', 'saved', 'score', 'secure_media', 'secure_media_embed', 'selftext', 'selftext_html', 'shortlink', 'spoiler', 'stickied', 'subreddit', 'subreddit_id', 'subreddit_name_prefixed', 'subreddit_type', 'suggested_sort', 'thumbnail', 'thumbnail_height', 'thumbnail_width', 'title', 'unhide', 'unsave', 'ups', 'upvote', 'url', 'user_reports', 'view_count', 'visited', 'whitelist_status'.\n",
    "\n",
    "\n",
    "Crazy, so many. Try printing some of them."
   ]
  },
  {
   "cell_type": "code",
   "execution_count": null,
   "metadata": {
    "collapsed": true
   },
   "outputs": [],
   "source": [
    "hot_posts = r_glasgow.hot(limit=5)\n",
    "for submission in hot_posts:\n",
    "    print(submission.author, submission.is_self, submission.ups, submission.created_utc)"
   ]
  },
  {
   "cell_type": "markdown",
   "metadata": {},
   "source": [
    "### Searching a subreddit\n",
    "So, Glasgow is fun, but let's look at another more active subreddit, one with more links than self posts... let's try r/news:"
   ]
  },
  {
   "cell_type": "code",
   "execution_count": null,
   "metadata": {
    "collapsed": true
   },
   "outputs": [],
   "source": [
    "r_news = reddit.subreddit('news')"
   ]
  },
  {
   "cell_type": "markdown",
   "metadata": {},
   "source": [
    "Now that we have an interesting subreddit, we can search within it using the `search` method. You can try printing the `help` for the search method, if that's too much for you, just keep reading:\n",
    "\n",
    "The search method receives one very important parameter: `query` which is the query string we'll be looking for. The other parameters have default values, so for now we can ignore them... just for now, though. "
   ]
  },
  {
   "cell_type": "code",
   "execution_count": null,
   "metadata": {
    "collapsed": true
   },
   "outputs": [],
   "source": [
    "q = 'nuclear' # Change the query to something less dangerous.\n",
    "nuclear_submissions = r_news.search(query=q)\n",
    "for submission in nuclear_submissions:\n",
    "    print(submission.title, submission.url)"
   ]
  },
  {
   "cell_type": "markdown",
   "metadata": {},
   "source": [
    "So many results! try limiting the search by setting another parameter of the search method: `limit`"
   ]
  },
  {
   "cell_type": "code",
   "execution_count": null,
   "metadata": {
    "collapsed": true
   },
   "outputs": [],
   "source": [
    "limited_nuclear_submissions = r_news.search(query=q, limit=5)\n",
    "for submission in limited_nuclear_submissions:\n",
    "    print(submission.title, submission.url)"
   ]
  },
  {
   "cell_type": "markdown",
   "metadata": {},
   "source": [
    "By default the search is performed used the Lucene syntax, which is a thing that I don't understand yet. But what I do understand is that there are certain limitations to it when it comes to search the reddit database, one of the main limitations is that we cannot specifiy a a timeframe to search posts. To overcome this, you can spcify what kind of syntax you want to use for the search, there are three supported syntaxes: cloudsearch, lucene, plain. \n",
    "\n",
    "In this case, we'll use `cloudsearch`, you can specify which syntax are you using via the `syntax` parameter, now, let's add a time window to perform our search again."
   ]
  },
  {
   "cell_type": "code",
   "execution_count": null,
   "metadata": {
    "collapsed": true
   },
   "outputs": [],
   "source": [
    "# Query at an specific point in time:\n",
    "q = \"'nuclear' (and timestamp:1420027200..1420070400)\"\n",
    "#   01/01/2015 @ 12:00am (UTC)^           ^01/15/2015 @ 12:00am (UTC)\n",
    "\n",
    "timed_nuclear_submissions  = r_news.search(q, syntax='cloudsearch', limit=10)\n",
    "for submission in timed_nuclear_submissions:\n",
    "    print(submission.title, submission.url)"
   ]
  },
  {
   "cell_type": "code",
   "execution_count": 13,
   "metadata": {
    "collapsed": true
   },
   "outputs": [],
   "source": [
    "import datetime\n",
    "\n",
    "def date_ms(timestamp):\n",
    "    return datetime.datetime.fromtimestamp(timestamp).strftime('%Y-%m-%d %H:%M:%S')\n",
    "\n",
    "import math\n",
    "def strip_time(timestamp):\n",
    "    first = math.floor(timestamp/86400)*86400;\n",
    "    second = first + ((24*60*60) - 1)\n",
    "    return first, second"
   ]
  },
  {
   "cell_type": "code",
   "execution_count": 16,
   "metadata": {},
   "outputs": [
    {
     "name": "stdout",
     "output_type": "stream",
     "text": [
      "2017-11-08 23:58:04\n",
      "2017-11-08 00:00:00\n",
      "2017-11-08 23:59:59\n"
     ]
    }
   ],
   "source": [
    "time_to_consider = 1510185484\n",
    "first, second = strip_time(time_to_consider)\n",
    "print(date_ms(time_to_consider))\n",
    "print(date_ms(first))\n",
    "print(date_ms(second))"
   ]
  },
  {
   "cell_type": "code",
   "execution_count": 26,
   "metadata": {},
   "outputs": [
    {
     "name": "stdout",
     "output_type": "stream",
     "text": [
      "0.25\n",
      "0.95\n",
      "-0.95\n",
      "-0.35\n"
     ]
    }
   ],
   "source": [
    "import numpy as np\n",
    "x = []\n",
    "values = np.linspace(-1, 1, 21)\n",
    "for a, b in zip(values[:-1], values[1:]):\n",
    "    x.append([a, b, (a+b) / 2])\n",
    "x = np.array(x)\n",
    "\n",
    "def get_categorical_value(value):\n",
    "    filter1 = x[(x[:,0] < value)]\n",
    "    filter1 = filter1[value <= filter1[:,1]]\n",
    "    if value == -1:\n",
    "        return -0.95\n",
    "    return filter1[0,2]\n",
    "\n",
    "print(get_categorical_value(0.2323))\n",
    "print(get_categorical_value(1))\n",
    "print(get_categorical_value(-1))\n",
    "print(get_categorical_value(-0.32))"
   ]
  },
  {
   "cell_type": "code",
   "execution_count": null,
   "metadata": {
    "collapsed": true
   },
   "outputs": [],
   "source": []
  },
  {
   "cell_type": "code",
   "execution_count": null,
   "metadata": {
    "collapsed": true
   },
   "outputs": [],
   "source": []
  }
 ],
 "metadata": {
  "kernelspec": {
   "display_name": "Python 3",
   "language": "python",
   "name": "python3"
  },
  "language_info": {
   "codemirror_mode": {
    "name": "ipython",
    "version": 3
   },
   "file_extension": ".py",
   "mimetype": "text/x-python",
   "name": "python",
   "nbconvert_exporter": "python",
   "pygments_lexer": "ipython3",
   "version": "3.6.1"
  }
 },
 "nbformat": 4,
 "nbformat_minor": 2
}
